{
 "cells": [
  {
   "cell_type": "markdown",
   "id": "8be00df8",
   "metadata": {},
   "source": [
    "# PRACTICA 1\n",
    "## GRUPO \n",
    "### DANIEL ALONSO, ÁLVARO GARCÍA CID, ENRIQUE RAMOS, IGNACIO REGIDOR\n"
   ]
  },
  {
   "cell_type": "code",
   "execution_count": null,
   "id": "311c47b7",
   "metadata": {},
   "outputs": [],
   "source": []
  }
 ],
 "metadata": {
  "kernelspec": {
   "display_name": "Python 3 (ipykernel)",
   "language": "python",
   "name": "python3"
  },
  "language_info": {
   "codemirror_mode": {
    "name": "ipython",
    "version": 3
   },
   "file_extension": ".py",
   "mimetype": "text/x-python",
   "name": "python",
   "nbconvert_exporter": "python",
   "pygments_lexer": "ipython3",
   "version": "3.8.8"
  }
 },
 "nbformat": 4,
 "nbformat_minor": 5
}
